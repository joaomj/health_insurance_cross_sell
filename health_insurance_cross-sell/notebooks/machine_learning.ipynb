{
 "cells": [
  {
   "cell_type": "markdown",
   "metadata": {},
   "source": [
    "# 0. Imports"
   ]
  },
  {
   "cell_type": "code",
   "execution_count": 35,
   "metadata": {},
   "outputs": [],
   "source": [
    "import pandas as pd\n",
    "import numpy as np\n",
    "import sys\n",
    "import seaborn as sns\n",
    "import scikitplot as skplt\n",
    "import pickle\n",
    "\n",
    "from pathlib import Path\n",
    "from matplotlib import pyplot as plt\n",
    "\n",
    "from scipy import stats\n",
    "from sklearn import preprocessing as pp\n",
    "from sklearn import model_selection as ms\n",
    "from sklearn import ensemble as en\n",
    "from sklearn import neighbors as nh\n",
    "from sklearn import linear_model as lm"
   ]
  },
  {
   "cell_type": "markdown",
   "metadata": {},
   "source": [
    "# 0.1. Helper Functions"
   ]
  },
  {
   "cell_type": "code",
   "execution_count": 36,
   "metadata": {},
   "outputs": [],
   "source": [
    "def precision_at_k (data, score, sample_perc = 0.5):\n",
    "    \n",
    "    # transform sample_perc into k-row value\n",
    "    k = int(len(data) * sample_perc) # get corresponding row of the dataset\n",
    "\n",
    "    # sort list by propensity score value\n",
    "    data = data.sort_values(score, ascending = False)\n",
    "\n",
    "    data = data.reset_index(drop=True)\n",
    "\n",
    "    # create ranking order\n",
    "    data['ranking'] = data.index + 1 # ranking number starts at 1\n",
    "\n",
    "    # create precision_at_k column\n",
    "    data['precision_at_k'] = data['response'].cumsum() / data['ranking']\n",
    "\n",
    "    # return precision value at k row\n",
    "    return data.loc[k, 'precision_at_k']\n",
    "\n",
    "def recall_at_k (data, score, sample_perc = 0.5):\n",
    "    \n",
    "    # transform sample_perc into k-row value\n",
    "    k = int(len(data) * sample_perc) # get corresponding row of the dataset\n",
    "\n",
    "    # sort list by propensity score value\n",
    "    data = data.sort_values(score, ascending = False)\n",
    "\n",
    "    # reset index\n",
    "    data = data.reset_index(drop=True)\n",
    "\n",
    "    # create ranking order\n",
    "    data['ranking'] = data.index + 1 # ranking number starts at 1\n",
    "\n",
    "    # create recall_at_k column\n",
    "    data['recall_at_k'] = data['response'].cumsum() / data['response'].sum()\n",
    "\n",
    "    # return recall value at k row\n",
    "    return data.loc[k, 'recall_at_k']\n",
    "\n",
    "def save_model(path, filename, model):\n",
    "\n",
    "    path_ = str(Path.cwd().parents[0])\n",
    "    path_ = path_ + path + '/' + filename\n",
    "    pickle.dump(model, open(path_, 'wb'))\n",
    "\n",
    "    return None"
   ]
  },
  {
   "cell_type": "markdown",
   "metadata": {},
   "source": [
    "# 1. Data Preparation"
   ]
  },
  {
   "cell_type": "code",
   "execution_count": 37,
   "metadata": {},
   "outputs": [],
   "source": [
    "# load data\n",
    "path = str(Path.cwd().parents[0] / \"data\" / \"processed\")\n",
    "path = path + '/' + 'df_eda.csv'\n",
    "\n",
    "df = pd.read_csv(path)"
   ]
  },
  {
   "cell_type": "code",
   "execution_count": 38,
   "metadata": {},
   "outputs": [],
   "source": [
    "# return variables to original values\n",
    "\n",
    "# response\n",
    "# driving_license\n",
    "# vehicle_damage\n",
    "# previously_insured\n",
    "\n",
    "for i in df.columns:\n",
    "\n",
    "    if (i == 'response') | (i == 'driving_license') | (i == 'vehicle_damage') | (i == 'previously_insured'):\n",
    "        df[i] = df[i].apply(lambda x: 1 if x == 'Yes' else 0)\n",
    "    \n",
    "    else:\n",
    "        pass"
   ]
  },
  {
   "cell_type": "code",
   "execution_count": 39,
   "metadata": {},
   "outputs": [
    {
     "data": {
      "text/html": [
       "<div>\n",
       "<style scoped>\n",
       "    .dataframe tbody tr th:only-of-type {\n",
       "        vertical-align: middle;\n",
       "    }\n",
       "\n",
       "    .dataframe tbody tr th {\n",
       "        vertical-align: top;\n",
       "    }\n",
       "\n",
       "    .dataframe thead th {\n",
       "        text-align: right;\n",
       "    }\n",
       "</style>\n",
       "<table border=\"1\" class=\"dataframe\">\n",
       "  <thead>\n",
       "    <tr style=\"text-align: right;\">\n",
       "      <th></th>\n",
       "      <th>id</th>\n",
       "      <th>gender</th>\n",
       "      <th>age</th>\n",
       "      <th>region_code</th>\n",
       "      <th>policy_sales_channel</th>\n",
       "      <th>driving_license</th>\n",
       "      <th>vehicle_age</th>\n",
       "      <th>vehicle_damage</th>\n",
       "      <th>previously_insured</th>\n",
       "      <th>annual_premium</th>\n",
       "      <th>vintage</th>\n",
       "      <th>response</th>\n",
       "    </tr>\n",
       "  </thead>\n",
       "  <tbody>\n",
       "    <tr>\n",
       "      <th>0</th>\n",
       "      <td>7</td>\n",
       "      <td>Male</td>\n",
       "      <td>23</td>\n",
       "      <td>11</td>\n",
       "      <td>152</td>\n",
       "      <td>1</td>\n",
       "      <td>New</td>\n",
       "      <td>1</td>\n",
       "      <td>0</td>\n",
       "      <td>23367.0</td>\n",
       "      <td>249</td>\n",
       "      <td>0</td>\n",
       "    </tr>\n",
       "    <tr>\n",
       "      <th>1</th>\n",
       "      <td>13</td>\n",
       "      <td>Female</td>\n",
       "      <td>41</td>\n",
       "      <td>15</td>\n",
       "      <td>14</td>\n",
       "      <td>1</td>\n",
       "      <td>Average</td>\n",
       "      <td>0</td>\n",
       "      <td>1</td>\n",
       "      <td>31409.0</td>\n",
       "      <td>221</td>\n",
       "      <td>0</td>\n",
       "    </tr>\n",
       "    <tr>\n",
       "      <th>2</th>\n",
       "      <td>18</td>\n",
       "      <td>Female</td>\n",
       "      <td>25</td>\n",
       "      <td>35</td>\n",
       "      <td>152</td>\n",
       "      <td>1</td>\n",
       "      <td>New</td>\n",
       "      <td>0</td>\n",
       "      <td>1</td>\n",
       "      <td>46622.0</td>\n",
       "      <td>299</td>\n",
       "      <td>0</td>\n",
       "    </tr>\n",
       "    <tr>\n",
       "      <th>3</th>\n",
       "      <td>31</td>\n",
       "      <td>Female</td>\n",
       "      <td>26</td>\n",
       "      <td>8</td>\n",
       "      <td>160</td>\n",
       "      <td>1</td>\n",
       "      <td>New</td>\n",
       "      <td>0</td>\n",
       "      <td>0</td>\n",
       "      <td>2630.0</td>\n",
       "      <td>136</td>\n",
       "      <td>0</td>\n",
       "    </tr>\n",
       "    <tr>\n",
       "      <th>4</th>\n",
       "      <td>39</td>\n",
       "      <td>Male</td>\n",
       "      <td>45</td>\n",
       "      <td>8</td>\n",
       "      <td>124</td>\n",
       "      <td>1</td>\n",
       "      <td>Average</td>\n",
       "      <td>1</td>\n",
       "      <td>0</td>\n",
       "      <td>42297.0</td>\n",
       "      <td>264</td>\n",
       "      <td>0</td>\n",
       "    </tr>\n",
       "  </tbody>\n",
       "</table>\n",
       "</div>"
      ],
      "text/plain": [
       "   id  gender  age  region_code  policy_sales_channel  driving_license  \\\n",
       "0   7    Male   23           11                   152                1   \n",
       "1  13  Female   41           15                    14                1   \n",
       "2  18  Female   25           35                   152                1   \n",
       "3  31  Female   26            8                   160                1   \n",
       "4  39    Male   45            8                   124                1   \n",
       "\n",
       "  vehicle_age  vehicle_damage  previously_insured  annual_premium  vintage  \\\n",
       "0         New               1                   0         23367.0      249   \n",
       "1     Average               0                   1         31409.0      221   \n",
       "2         New               0                   1         46622.0      299   \n",
       "3         New               0                   0          2630.0      136   \n",
       "4     Average               1                   0         42297.0      264   \n",
       "\n",
       "   response  \n",
       "0         0  \n",
       "1         0  \n",
       "2         0  \n",
       "3         0  \n",
       "4         0  "
      ]
     },
     "execution_count": 39,
     "metadata": {},
     "output_type": "execute_result"
    }
   ],
   "source": [
    "df.head()"
   ]
  },
  {
   "cell_type": "code",
   "execution_count": 40,
   "metadata": {},
   "outputs": [],
   "source": [
    "# simulates production environment\n",
    "\n",
    "X = df.drop('response', axis = 1) # real data does not contain response\n",
    "y = df['response'].copy()\n",
    "\n",
    "x_train, x_validation, y_train, y_validation = ms.train_test_split(X, y, test_size = 0.20, random_state = 9) # spit dataset between train and test\n",
    "\n",
    "df = pd.concat([x_train, y_train], axis = 1)\n",
    "\n",
    "# save validation datasets - they will be used to test the API later\n",
    "# save_model('/data/interim', 'x_validation.pkl', x_validation)\n",
    "# save_model('/data/interim', 'y_validation.pkl', y_validation)\n"
   ]
  },
  {
   "cell_type": "markdown",
   "metadata": {},
   "source": [
    "## Standardization\n",
    "Only attributes with Normal distribution."
   ]
  },
  {
   "cell_type": "code",
   "execution_count": 41,
   "metadata": {},
   "outputs": [],
   "source": [
    "# annual_premium (we will not remove outliers now)\n",
    "\n",
    "ss = pp.StandardScaler()\n",
    "\n",
    "df['annual_premium'] = ss.fit_transform(df[['annual_premium']].values) # encoder receives an array"
   ]
  },
  {
   "cell_type": "markdown",
   "metadata": {},
   "source": [
    "## Rescaling"
   ]
  },
  {
   "cell_type": "code",
   "execution_count": 42,
   "metadata": {},
   "outputs": [],
   "source": [
    "# saves scaler to the same variable which will be used in the test\n",
    "mms_age = pp.MinMaxScaler() \n",
    "mms_vintage = pp.MinMaxScaler()\n",
    "\n",
    "# age\n",
    "df['age'] = mms_age.fit_transform(df[['age']].values)\n",
    "\n",
    "# vintage\n",
    "df['vintage'] = mms_vintage.fit_transform(df[['vintage']].values)"
   ]
  },
  {
   "cell_type": "markdown",
   "metadata": {},
   "source": [
    "## Encoding\n",
    "Only categorical attributes which we want to mantain its nature (eg. binary, ordinal)"
   ]
  },
  {
   "cell_type": "code",
   "execution_count": 43,
   "metadata": {},
   "outputs": [],
   "source": [
    "# gender\n",
    "target_encode_gender = df.groupby('gender')['response'].mean()\n",
    "df.loc[:,'gender'] = df['gender'].map(target_encode_gender)\n",
    "\n",
    "# region_code - Frequency Encoding | Target Encoding (we choose this) | Weigthed Target Encoding\n",
    "target_encode_region_code = df.groupby('region_code')['response'].mean()\n",
    "df.loc[:,'region_code'] = df['region_code'].map(target_encode_region_code) # replace all values within policy_sales_channel column with encoded values\n",
    "\n",
    "# vehicle_age - One Hot Encoding (we choose this) | Order Encoding\n",
    "df = pd.get_dummies(df, prefix = 'vehicle_age', columns = ['vehicle_age'])\n",
    "\n",
    "# policy_sales_channel - Target Encoding | Frequency Encoding (we choose this)\n",
    "# Frequency Encoding gives more weight to more frequent values of the categorical attribute\n",
    "fe_policy_sales_channel = df.groupby('policy_sales_channel').size() / len(df)\n",
    "df.loc[:,'policy_sales_channel'] = df['policy_sales_channel'].map(fe_policy_sales_channel) # replace all values within policy_sales_channel column with encoded values\n"
   ]
  },
  {
   "cell_type": "markdown",
   "metadata": {},
   "source": [
    "# Saving Encoders"
   ]
  },
  {
   "cell_type": "code",
   "execution_count": 44,
   "metadata": {},
   "outputs": [],
   "source": [
    "# # saving encoders\n",
    "# folder = '/src/features'\n",
    "\n",
    "# filename = {\n",
    "#     'annual_premium_scaler.pkl':ss,\n",
    "#     'age_scaler.pkl':mms_age,\n",
    "#     'vintage_scaler.pkl':mms_vintage,\n",
    "#     'target_encoder_gender_scaler.pkl':target_encode_gender,\n",
    "#     'target_encoder_region_code_scaler.pkl':target_encode_region_code,\n",
    "#     'frequency_encoder_policy_sales_scaler.pkl':fe_policy_sales_channel\n",
    "#     }\n",
    "\n",
    "\n",
    "# for filename, scaler in filename.items():\n",
    "#     save_model(folder, filename, scaler)"
   ]
  },
  {
   "cell_type": "markdown",
   "metadata": {},
   "source": [
    "## Validation Preparation"
   ]
  },
  {
   "cell_type": "code",
   "execution_count": 45,
   "metadata": {},
   "outputs": [],
   "source": [
    "# applies same training encoders to testing (validation, val) data\n",
    "\n",
    "# gender\n",
    "x_validation.loc[:, 'gender'] = x_validation.loc[:, 'gender'].map(target_encode_gender)\n",
    "\n",
    "# age\n",
    "x_validation.loc[:, 'age'] = mms_age.transform(x_validation[['age']].values)\n",
    "\n",
    "# region_code\n",
    "x_validation.loc[:, 'region_code'] = x_validation.loc[:, 'region_code'].map(target_encode_region_code)\n",
    "\n",
    "# vehicle_age\n",
    "x_validation.loc[:, 'vehicle_age'] = pd.get_dummies(x_validation, prefix = 'vehicle_age', columns = ['vehicle_age'])\n",
    "\n",
    "# annual_premium\n",
    "x_validation.loc[:, 'annual_premium'] = ss.transform(x_validation[['annual_premium']].values)\n",
    "\n",
    "# policy_sales_channel\n",
    "x_validation.loc[:, 'policy_sales_channel'] = x_validation['policy_sales_channel'].map(fe_policy_sales_channel)\n",
    "\n",
    "# vintage\n",
    "x_validation.loc[:, 'vintage'] = mms_vintage.transform(x_validation[['vintage']].values)\n",
    "\n",
    "# fillna\n",
    "x_validation = x_validation.fillna(0)"
   ]
  },
  {
   "cell_type": "markdown",
   "metadata": {},
   "source": [
    "# 2. Feature Selection"
   ]
  },
  {
   "cell_type": "markdown",
   "metadata": {},
   "source": [
    "## 2.1. Features Importance"
   ]
  },
  {
   "cell_type": "code",
   "execution_count": 46,
   "metadata": {},
   "outputs": [],
   "source": [
    "# # model definition\n",
    "# forest = en.ExtraTreesClassifier(n_estimators = 250, random_state = 0, n_jobs = -2) # n_jobs will not use all cores\n",
    "\n",
    "# # data preparation\n",
    "# x_train_n = df.drop(['id', 'response'], axis = 1)\n",
    "# y_train_n = y_train.values\n",
    "# forest.fit(x_train_n, y_train_n)"
   ]
  },
  {
   "cell_type": "code",
   "execution_count": 47,
   "metadata": {},
   "outputs": [],
   "source": [
    "# importances = forest.feature_importances_\n",
    "# std = np.std([tree.feature_importances_ for tree in forest.estimators_], axis = 0)\n",
    "# indices = np.argsort(importances)[::-1]\n",
    "\n",
    "# # Print feature ranking\n",
    "# print('Feature Ranking:')\n",
    "# data = pd.DataFrame()\n",
    "# for i, j in zip(x_train_n, forest.feature_importances_):\n",
    "#     aux = pd.DataFrame({'feature': i, 'importance': j}, index = [0])\n",
    "#     data = pd.concat([data, aux], axis = 0)\n",
    "\n",
    "# print(data.sort_values('importance', ascending = False))\n",
    "\n",
    "# # Plot the impurity-based feature importances of the forest\n",
    "# plt.figure()\n",
    "# plt.title('Feature Importances')\n",
    "# plt.bar(range(x_train_n.shape[1]), importances[indices], color = 'r', yerr = std[indices], align = 'center')\n",
    "# plt.xticks(range(x_train_n.shape[1]), indices)\n",
    "# plt.xlim([-1, x_train_n.shape[1]])\n",
    "# plt.show()\n"
   ]
  },
  {
   "cell_type": "markdown",
   "metadata": {},
   "source": [
    "# 3. Machine Learning"
   ]
  },
  {
   "cell_type": "code",
   "execution_count": 48,
   "metadata": {},
   "outputs": [],
   "source": [
    "# arbitrary selection\n",
    "cols_selected = ['vintage', 'annual_premium', 'age', 'region_code', 'vehicle_damage', 'policy_sales_channel', 'previously_insured']"
   ]
  },
  {
   "cell_type": "code",
   "execution_count": 49,
   "metadata": {},
   "outputs": [],
   "source": [
    "# using only the selected features to train and test (validation) the model\n",
    "x_train = df[cols_selected]\n",
    "x_val = x_validation[cols_selected]"
   ]
  },
  {
   "cell_type": "markdown",
   "metadata": {},
   "source": [
    "## 3.1. KNN"
   ]
  },
  {
   "cell_type": "code",
   "execution_count": 16,
   "metadata": {},
   "outputs": [
    {
     "data": {
      "text/plain": [
       "' What this chart tell?\\nif i make the offer to 40% of the ordered list, i will find ~85% of interested people (with 07 neighbors)\\nthis means the KNN model left interested people on the end of the list\\nmore KNN Neighbors = i will find more interested people'"
      ]
     },
     "execution_count": 16,
     "metadata": {},
     "output_type": "execute_result"
    },
    {
     "data": {
      "image/png": "[encoded data removed]",
      "text/plain": [
       "<Figure size 432x288 with 1 Axes>"
      ]
     },
     "metadata": {
      "needs_background": "light"
     },
     "output_type": "display_data"
    }
   ],
   "source": [
    "# model definition\n",
    "knn_model = nh.KNeighborsClassifier(n_neighbors = 7)\n",
    "\n",
    "# model training\n",
    "knn_model.fit(x_train, y_train)\n",
    "\n",
    "# model prediction - Generalizing Power\n",
    "yhat_knn = knn_model.predict_proba(x_val)\n",
    "\n",
    "# Accumulative Gain\n",
    "skplt.metrics.plot_cumulative_gain(y_validation, yhat_knn);\n",
    "\n",
    "\"\"\" What this chart tell?\n",
    "if i make the offer to 40% of the ordered list, i will find ~85% of interested people (with 07 neighbors)\n",
    "this means the KNN model left interested people on the end of the list\n",
    "more KNN Neighbors = i will find more interested people\"\"\""
   ]
  },
  {
   "cell_type": "code",
   "execution_count": 17,
   "metadata": {},
   "outputs": [
    {
     "data": {
      "image/png": "[encoded data removed]",
      "text/plain": [
       "<Figure size 432x288 with 1 Axes>"
      ]
     },
     "metadata": {
      "needs_background": "light"
     },
     "output_type": "display_data"
    }
   ],
   "source": [
    "# Lift Curve\n",
    "skplt.metrics.plot_lift_curve(y_validation, yhat_knn);"
   ]
  },
  {
   "cell_type": "markdown",
   "metadata": {},
   "source": [
    "## 3.2. Linear Regression"
   ]
  },
  {
   "cell_type": "code",
   "execution_count": 18,
   "metadata": {},
   "outputs": [
    {
     "data": {
      "image/png": "[encoded data removed]",
      "text/plain": [
       "<Figure size 432x288 with 1 Axes>"
      ]
     },
     "metadata": {
      "needs_background": "light"
     },
     "output_type": "display_data"
    }
   ],
   "source": [
    "# model definition\n",
    "lr_model = lm.LogisticRegression(random_state = 42)\n",
    "\n",
    "# model training\n",
    "lr_model.fit(x_train, y_train)\n",
    "\n",
    "# model prediction - Generalizing Power\n",
    "yhat_lr = lr_model.predict_proba(x_val)\n",
    "\n",
    "# Cumulative Gain\n",
    "skplt.metrics.plot_cumulative_gain(y_validation, yhat_lr);"
   ]
  },
  {
   "cell_type": "code",
   "execution_count": 19,
   "metadata": {},
   "outputs": [
    {
     "data": {
      "image/png": "[encoded data removed]",
      "text/plain": [
       "<Figure size 432x288 with 1 Axes>"
      ]
     },
     "metadata": {
      "needs_background": "light"
     },
     "output_type": "display_data"
    }
   ],
   "source": [
    "# Lift Curve\n",
    "skplt.metrics.plot_lift_curve(y_validation, yhat_lr);"
   ]
  },
  {
   "cell_type": "markdown",
   "metadata": {},
   "source": [
    "## 3.3. Extra Trees"
   ]
  },
  {
   "cell_type": "code",
   "execution_count": 20,
   "metadata": {},
   "outputs": [
    {
     "data": {
      "image/png": "[encoded data removed]",
      "text/plain": [
       "<Figure size 432x288 with 1 Axes>"
      ]
     },
     "metadata": {
      "needs_background": "light"
     },
     "output_type": "display_data"
    }
   ],
   "source": [
    "# model definition\n",
    "et = en.ExtraTreesClassifier(n_estimators = 100, n_jobs = -2, random_state = 42)\n",
    "\n",
    "# model training\n",
    "et.fit(x_train, y_train)\n",
    "\n",
    "# model prediction - Generalizing Power\n",
    "yhat_et = et.predict_proba(x_val)\n",
    "\n",
    "skplt.metrics.plot_cumulative_gain(y_validation, yhat_et);"
   ]
  },
  {
   "cell_type": "code",
   "execution_count": 21,
   "metadata": {},
   "outputs": [
    {
     "data": {
      "image/png": "[encoded data removed]",
      "text/plain": [
       "<Figure size 432x288 with 1 Axes>"
      ]
     },
     "metadata": {
      "needs_background": "light"
     },
     "output_type": "display_data"
    }
   ],
   "source": [
    "# Lift Curve\n",
    "skplt.metrics.plot_lift_curve(y_validation, yhat_et);"
   ]
  },
  {
   "cell_type": "markdown",
   "metadata": {},
   "source": [
    "## 3.4. Random Forest"
   ]
  },
  {
   "cell_type": "code",
   "execution_count": 22,
   "metadata": {},
   "outputs": [
    {
     "data": {
      "image/png": "[encoded data removed]",
      "text/plain": [
       "<Figure size 432x288 with 1 Axes>"
      ]
     },
     "metadata": {
      "needs_background": "light"
     },
     "output_type": "display_data"
    }
   ],
   "source": [
    "# model definition\n",
    "rf = en.RandomForestClassifier(n_estimators = 100, n_jobs = -2, random_state = 42)\n",
    "\n",
    "# model training\n",
    "rf.fit(x_train, y_train)\n",
    "\n",
    "# model prediction - Generalizing Power\n",
    "yhat_rf = rf.predict_proba(x_val)\n",
    "\n",
    "# Cumulative Gain\n",
    "skplt.metrics.plot_cumulative_gain(y_validation, yhat_rf);"
   ]
  },
  {
   "cell_type": "code",
   "execution_count": 23,
   "metadata": {},
   "outputs": [
    {
     "data": {
      "image/png": "[encoded data removed]",
      "text/plain": [
       "<Figure size 432x288 with 1 Axes>"
      ]
     },
     "metadata": {
      "needs_background": "light"
     },
     "output_type": "display_data"
    }
   ],
   "source": [
    "# Lift Curve\n",
    "skplt.metrics.plot_lift_curve(y_validation, yhat_rf);"
   ]
  },
  {
   "cell_type": "markdown",
   "metadata": {},
   "source": [
    "# 4. Model Performance"
   ]
  },
  {
   "cell_type": "markdown",
   "metadata": {},
   "source": [
    "## 4.1. Holdout Validation"
   ]
  },
  {
   "cell_type": "code",
   "execution_count": 58,
   "metadata": {},
   "outputs": [],
   "source": [
    "# copy data\n",
    "df_perf = x_validation.copy()\n",
    "df_perf['response'] = y_validation.copy()\n",
    "\n",
    "# propensity score - from KNN Model\n",
    "# yhat = Prediction probabilities for each class returned by a classifier.\n",
    "df_perf['score_knn'] = yhat_knn[:,1].tolist() # get all propensity score values of response = 1 then converts to list\n",
    "# yhat is an array resulted from predict_proba methods. This result shows class probabilities which classes in lexicographical order\n",
    "# source: https://github.com/scikit-learn/scikit-learn/blob/7e1e6d09b/sklearn/neighbors/_classification.py#L240\n",
    "# In this specific case, the class on position '1' is the response '1'.\n",
    "\n",
    "# propensity score - from Linear Regression Model\n",
    "df_perf['score_lr'] = yhat_lr[:,1].tolist() # get all propensity score values of response = 1 then converts to list\n",
    "\n",
    "# propensity score - from Extra Trees Model\n",
    "df_perf['score_et'] = yhat_et[:,1].tolist() # get all propensity score values of response = 1 then converts to list\n",
    "\n",
    "# propensity score - from Random Forest Model\n",
    "df_perf['score_rf'] = yhat_rf[:,1].tolist() # get all propensity score values of response = 1 then converts to list\n",
    "\n",
    "# models to evaluate\n",
    "scores = ['score_knn', 'score_lr', 'score_et', 'score_rf']\n",
    "\n",
    "# create list to store performance metrics\n",
    "performance = []\n",
    "\n",
    "k = 0.4 # sample percentage\n",
    "\n",
    "for i in scores:\n",
    "    # compute Precision at k (Precision Top K) = ratio of True Positives within all Positives?\n",
    "    precision = precision_at_k(df_perf, i, k)\n",
    "\n",
    "    # compute Recall at k = ratio of True Positives within all instances of the dataset\n",
    "    recall = recall_at_k(df_perf, i, k)\n",
    "\n",
    "    # save performance metrics\n",
    "    performance.append([i, precision, recall, k])\n",
    "\n",
    "# convert performance metrics list to dataframe\n",
    "df_perf_rank = pd.DataFrame(performance, columns = ['model', 'precision', 'recall', 'k%'])\n",
    "df_perf_rank['k%'] = df_perf_rank['k%'] * 100\n",
    "df_perf_rank = df_perf_rank.round(decimals = {'precision' : 4, 'recall' : 4 , 'k%' : 0}).sort_values('recall', ascending = False).reset_index(drop=True)"
   ]
  },
  {
   "cell_type": "code",
   "execution_count": 59,
   "metadata": {},
   "outputs": [
    {
     "data": {
      "text/html": [
       "<div>\n",
       "<style scoped>\n",
       "    .dataframe tbody tr th:only-of-type {\n",
       "        vertical-align: middle;\n",
       "    }\n",
       "\n",
       "    .dataframe tbody tr th {\n",
       "        vertical-align: top;\n",
       "    }\n",
       "\n",
       "    .dataframe thead th {\n",
       "        text-align: right;\n",
       "    }\n",
       "</style>\n",
       "<table border=\"1\" class=\"dataframe\">\n",
       "  <thead>\n",
       "    <tr style=\"text-align: right;\">\n",
       "      <th></th>\n",
       "      <th>model</th>\n",
       "      <th>precision</th>\n",
       "      <th>recall</th>\n",
       "      <th>k%</th>\n",
       "    </tr>\n",
       "  </thead>\n",
       "  <tbody>\n",
       "    <tr>\n",
       "      <th>0</th>\n",
       "      <td>score_rf</td>\n",
       "      <td>0.2718</td>\n",
       "      <td>0.8921</td>\n",
       "      <td>40.0</td>\n",
       "    </tr>\n",
       "    <tr>\n",
       "      <th>1</th>\n",
       "      <td>score_et</td>\n",
       "      <td>0.2696</td>\n",
       "      <td>0.8848</td>\n",
       "      <td>40.0</td>\n",
       "    </tr>\n",
       "    <tr>\n",
       "      <th>2</th>\n",
       "      <td>score_lr</td>\n",
       "      <td>0.2659</td>\n",
       "      <td>0.8726</td>\n",
       "      <td>40.0</td>\n",
       "    </tr>\n",
       "    <tr>\n",
       "      <th>3</th>\n",
       "      <td>score_knn</td>\n",
       "      <td>0.2616</td>\n",
       "      <td>0.8587</td>\n",
       "      <td>40.0</td>\n",
       "    </tr>\n",
       "  </tbody>\n",
       "</table>\n",
       "</div>"
      ],
      "text/plain": [
       "       model  precision  recall    k%\n",
       "0   score_rf     0.2718  0.8921  40.0\n",
       "1   score_et     0.2696  0.8848  40.0\n",
       "2   score_lr     0.2659  0.8726  40.0\n",
       "3  score_knn     0.2616  0.8587  40.0"
      ]
     },
     "execution_count": 59,
     "metadata": {},
     "output_type": "execute_result"
    }
   ],
   "source": [
    "df_perf_rank"
   ]
  },
  {
   "cell_type": "markdown",
   "metadata": {},
   "source": [
    "## 4.2. K-Fold Cross Validation"
   ]
  },
  {
   "cell_type": "code",
   "execution_count": 55,
   "metadata": {},
   "outputs": [
    {
     "data": {
      "text/plain": [
       "[['score_lr', 0.26906362741882583, 0.8777584592751103, 0.4],\n",
       " ['score_lr', 0.2652509019350607, 0.8734980423923315, 0.4],\n",
       " ['score_lr', 0.26792669427247756, 0.8639608672659969, 0.4],\n",
       " ['score_lr', 0.26661473494321675, 0.8712486602357985, 0.4],\n",
       " ['score_lr', 0.26591775654954697, 0.8663015894216642, 0.4]]"
      ]
     },
     "execution_count": 55,
     "metadata": {},
     "output_type": "execute_result"
    }
   ],
   "source": [
    "kf = ms.KFold(n_splits = 5)\n",
    "\n",
    "# model definition\n",
    "lr_model = lm.LogisticRegression(random_state = 42)\n",
    "\n",
    "i = 'score_lr'\n",
    "\n",
    "k = 0.4\n",
    "\n",
    "performance = []\n",
    "\n",
    "for train, test in kf.split(x_train, y_train): # returns an array of train and test indexes\n",
    "    #print('TRAIN: ', train_index, 'TEST: ', test_index)  \n",
    "\n",
    "    df_perf = x_train.iloc[test].copy()\n",
    "    df_perf['response'] = y_train.iloc[test].copy()\n",
    "\n",
    "    # model training\n",
    "    lr_model.fit(x_train.iloc[train], y_train.iloc[train])\n",
    "\n",
    "    # model prediction - Generalizing Power\n",
    "    yhat_lr = lr_model.predict_proba(x_train.iloc[test])\n",
    "\n",
    "    # propensity score - from Linear Regression Model\n",
    "    df_perf[i] = yhat_lr[:,1].tolist() # get all propensity score values of response = 1 then converts to list\n",
    "\n",
    "    # compute Precision at k (Precision Top K) = ratio of True Positives within all Positives?\n",
    "    precision = precision_at_k(df_perf, i, k)\n",
    "\n",
    "    # compute Recall at k = ratio of True Positives within all instances of the dataset\n",
    "    recall = recall_at_k(df_perf, i, k)\n",
    "\n",
    "    # save performance metrics\n",
    "    performance.append([i, precision, recall, k])\n",
    "\n",
    "performance\n",
    "\n",
    "    # 1. instanciar modelo\n",
    "    # 2. treinar modelo\n",
    "    # 3. testar modelo\n",
    "    # 4. criar coluna nova 'score_modelo'\n",
    "    # 5. chamar precision_at_k e recall_at_k\n",
    "    # 6. armazenar precision e recall daquele modelo\n",
    "    # 7. repetir passos 2-6 até percorrer todos os índices informados pelo ms.KFold\n",
    "    # 8. calcular a média e desvio padrão dos valores de precision e recall armazenados daquele modelo\n",
    "    # 9. retornar: nome do modelo, kfolds, k, média do precision, std precision, média recall, std recall\n",
    "    # 10. repetir passos 1-9 até terminar todos os modelos que queremos fazer cross-validation\n",
    "    \n"
   ]
  },
  {
   "cell_type": "code",
   "execution_count": 72,
   "metadata": {},
   "outputs": [
    {
     "data": {
      "text/html": [
       "<div>\n",
       "<style scoped>\n",
       "    .dataframe tbody tr th:only-of-type {\n",
       "        vertical-align: middle;\n",
       "    }\n",
       "\n",
       "    .dataframe tbody tr th {\n",
       "        vertical-align: top;\n",
       "    }\n",
       "\n",
       "    .dataframe thead th {\n",
       "        text-align: right;\n",
       "    }\n",
       "</style>\n",
       "<table border=\"1\" class=\"dataframe\">\n",
       "  <thead>\n",
       "    <tr style=\"text-align: right;\">\n",
       "      <th></th>\n",
       "      <th>model</th>\n",
       "      <th>k_folds</th>\n",
       "      <th>k</th>\n",
       "      <th>precision_at_k_mean</th>\n",
       "      <th>precision_at_k_std</th>\n",
       "      <th>recall_at_k_mean</th>\n",
       "      <th>recall_at_k_std</th>\n",
       "    </tr>\n",
       "  </thead>\n",
       "  <tbody>\n",
       "    <tr>\n",
       "      <th>0</th>\n",
       "      <td>score_lr</td>\n",
       "      <td>5</td>\n",
       "      <td>0.4</td>\n",
       "      <td>0.267</td>\n",
       "      <td>0.0015</td>\n",
       "      <td>0.8706</td>\n",
       "      <td>0.0055</td>\n",
       "    </tr>\n",
       "  </tbody>\n",
       "</table>\n",
       "</div>"
      ],
      "text/plain": [
       "      model  k_folds    k  precision_at_k_mean  precision_at_k_std  \\\n",
       "0  score_lr        5  0.4                0.267              0.0015   \n",
       "\n",
       "   recall_at_k_mean  recall_at_k_std  \n",
       "0            0.8706           0.0055  "
      ]
     },
     "execution_count": 72,
     "metadata": {},
     "output_type": "execute_result"
    }
   ],
   "source": [
    "rank = pd.DataFrame(performance, columns = ['model', 'precision', 'recall', 'k%'])\n",
    "rank['k%'] = rank['k%'] * 100\n",
    "# rank = rank.round(decimals = {'precision' : 4, 'recall' : 4 , 'k%' : 0}).sort_values('recall', ascending = False).reset_index(drop=True)\n",
    "\n",
    "# print('Recall Mean is: ', format(rank['recall'].mean()))\n",
    "# print('Recall Standard Deviation is: ', format(rank['recall'].std()))\n",
    "# print('Recall is: {}'.format(round(rank['recall'].mean(), 4)) + ' +/- ' + '{}'.format(round(2*rank['recall'].std(), 4)))\n",
    "\n",
    "k_folds = 5\n",
    "perf_metrics = []\n",
    "precision_mean = round(rank['precision'].mean(), 4)\n",
    "precision_std = round(rank['precision'].std(), 4)\n",
    "recall_mean = round(rank['recall'].mean(), 4)\n",
    "recall_std = round(rank['recall'].std(), 4)\n",
    "perf_metrics.append([i, k_folds, k, precision_mean, precision_std, recall_mean, recall_std])\n",
    "\n",
    "perf_metrics\n",
    "perf_metrics_df = pd.DataFrame(perf_metrics, columns = ['model', 'k_folds', 'k', 'precision_at_k_mean', 'precision_at_k_std', 'recall_at_k_mean', 'recall_at_k_std'])\n",
    "perf_metrics_df\n"
   ]
  },
  {
   "cell_type": "markdown",
   "metadata": {},
   "source": [
    "# 5.0 Saving Models"
   ]
  },
  {
   "cell_type": "markdown",
   "metadata": {},
   "source": [
    "#"
   ]
  },
  {
   "cell_type": "code",
   "execution_count": 51,
   "metadata": {},
   "outputs": [],
   "source": [
    "folder = '/src/models'\n",
    "\n",
    "models_names = {\n",
    "    'model_knn.pkl':knn_model, \n",
    "    'model_linear_regression.pkl':lr_model, \n",
    "    'model_extra_trees.pkl':et,\n",
    "    'model_random_forest.pkl':rf\n",
    "    }\n",
    "\n",
    "for filename, model in models_names.items():\n",
    "    save_model(folder, filename, model)"
   ]
  }
 ],
 "metadata": {
  "interpreter": {
   "hash": "c91577f87f28a74f53eb86828a7349c9fe5e5528e7d35071f85bba277e374d2b"
  },
  "kernelspec": {
   "display_name": "Python 3.10.0 64-bit ('venv-PA004')",
   "language": "python",
   "name": "python3"
  },
  "language_info": {
   "codemirror_mode": {
    "name": "ipython",
    "version": 3
   },
   "file_extension": ".py",
   "mimetype": "text/x-python",
   "name": "python",
   "nbconvert_exporter": "python",
   "pygments_lexer": "ipython3",
   "version": "3.10.0"
  },
  "orig_nbformat": 4
 },
 "nbformat": 4,
 "nbformat_minor": 2
}
