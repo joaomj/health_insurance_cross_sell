{
 "cells": [
  {
   "cell_type": "markdown",
   "metadata": {},
   "source": [
    "# 0.0 Imports"
   ]
  },
  {
   "cell_type": "code",
   "execution_count": 2,
   "metadata": {},
   "outputs": [],
   "source": [
    "import pandas as pd\n",
    "import numpy as np\n",
    "import sys\n",
    "import seaborn as sns\n",
    "\n",
    "from pathlib import Path\n",
    "from matplotlib import pyplot as plt"
   ]
  },
  {
   "cell_type": "markdown",
   "metadata": {},
   "source": [
    "# 1.0 Load data"
   ]
  },
  {
   "cell_type": "code",
   "execution_count": 3,
   "metadata": {},
   "outputs": [],
   "source": [
    "path = str(Path.cwd().parents[0] / \"data\" / \"raw\")\n",
    "path = path + '/' + 'df_raw.csv'\n",
    "\n",
    "df = pd.read_csv(path)"
   ]
  },
  {
   "cell_type": "markdown",
   "metadata": {},
   "source": [
    "# 2.0 Data Description"
   ]
  },
  {
   "cell_type": "code",
   "execution_count": 4,
   "metadata": {},
   "outputs": [
    {
     "data": {
      "text/html": [
       "<div>\n",
       "<style scoped>\n",
       "    .dataframe tbody tr th:only-of-type {\n",
       "        vertical-align: middle;\n",
       "    }\n",
       "\n",
       "    .dataframe tbody tr th {\n",
       "        vertical-align: top;\n",
       "    }\n",
       "\n",
       "    .dataframe thead th {\n",
       "        text-align: right;\n",
       "    }\n",
       "</style>\n",
       "<table border=\"1\" class=\"dataframe\">\n",
       "  <thead>\n",
       "    <tr style=\"text-align: right;\">\n",
       "      <th></th>\n",
       "      <th>id</th>\n",
       "      <th>gender</th>\n",
       "      <th>age</th>\n",
       "      <th>region_code</th>\n",
       "      <th>policy_sales_channel</th>\n",
       "      <th>driving_license</th>\n",
       "      <th>vehicle_age</th>\n",
       "      <th>vehicle_damage</th>\n",
       "      <th>previously_insured</th>\n",
       "      <th>annual_premium</th>\n",
       "      <th>vintage</th>\n",
       "      <th>response</th>\n",
       "    </tr>\n",
       "  </thead>\n",
       "  <tbody>\n",
       "    <tr>\n",
       "      <th>0</th>\n",
       "      <td>7</td>\n",
       "      <td>Male</td>\n",
       "      <td>23</td>\n",
       "      <td>11.0</td>\n",
       "      <td>152.0</td>\n",
       "      <td>1</td>\n",
       "      <td>&lt; 1 Year</td>\n",
       "      <td>Yes</td>\n",
       "      <td>0</td>\n",
       "      <td>23367.0</td>\n",
       "      <td>249</td>\n",
       "      <td>0</td>\n",
       "    </tr>\n",
       "    <tr>\n",
       "      <th>1</th>\n",
       "      <td>13</td>\n",
       "      <td>Female</td>\n",
       "      <td>41</td>\n",
       "      <td>15.0</td>\n",
       "      <td>14.0</td>\n",
       "      <td>1</td>\n",
       "      <td>1-2 Year</td>\n",
       "      <td>No</td>\n",
       "      <td>1</td>\n",
       "      <td>31409.0</td>\n",
       "      <td>221</td>\n",
       "      <td>0</td>\n",
       "    </tr>\n",
       "    <tr>\n",
       "      <th>2</th>\n",
       "      <td>18</td>\n",
       "      <td>Female</td>\n",
       "      <td>25</td>\n",
       "      <td>35.0</td>\n",
       "      <td>152.0</td>\n",
       "      <td>1</td>\n",
       "      <td>&lt; 1 Year</td>\n",
       "      <td>No</td>\n",
       "      <td>1</td>\n",
       "      <td>46622.0</td>\n",
       "      <td>299</td>\n",
       "      <td>0</td>\n",
       "    </tr>\n",
       "    <tr>\n",
       "      <th>3</th>\n",
       "      <td>31</td>\n",
       "      <td>Female</td>\n",
       "      <td>26</td>\n",
       "      <td>8.0</td>\n",
       "      <td>160.0</td>\n",
       "      <td>1</td>\n",
       "      <td>&lt; 1 Year</td>\n",
       "      <td>No</td>\n",
       "      <td>0</td>\n",
       "      <td>2630.0</td>\n",
       "      <td>136</td>\n",
       "      <td>0</td>\n",
       "    </tr>\n",
       "    <tr>\n",
       "      <th>4</th>\n",
       "      <td>39</td>\n",
       "      <td>Male</td>\n",
       "      <td>45</td>\n",
       "      <td>8.0</td>\n",
       "      <td>124.0</td>\n",
       "      <td>1</td>\n",
       "      <td>1-2 Year</td>\n",
       "      <td>Yes</td>\n",
       "      <td>0</td>\n",
       "      <td>42297.0</td>\n",
       "      <td>264</td>\n",
       "      <td>0</td>\n",
       "    </tr>\n",
       "  </tbody>\n",
       "</table>\n",
       "</div>"
      ],
      "text/plain": [
       "   id  gender  age  region_code  policy_sales_channel  driving_license  \\\n",
       "0   7    Male   23         11.0                 152.0                1   \n",
       "1  13  Female   41         15.0                  14.0                1   \n",
       "2  18  Female   25         35.0                 152.0                1   \n",
       "3  31  Female   26          8.0                 160.0                1   \n",
       "4  39    Male   45          8.0                 124.0                1   \n",
       "\n",
       "  vehicle_age vehicle_damage  previously_insured  annual_premium  vintage  \\\n",
       "0    < 1 Year            Yes                   0         23367.0      249   \n",
       "1    1-2 Year             No                   1         31409.0      221   \n",
       "2    < 1 Year             No                   1         46622.0      299   \n",
       "3    < 1 Year             No                   0          2630.0      136   \n",
       "4    1-2 Year            Yes                   0         42297.0      264   \n",
       "\n",
       "   response  \n",
       "0         0  \n",
       "1         0  \n",
       "2         0  \n",
       "3         0  \n",
       "4         0  "
      ]
     },
     "execution_count": 4,
     "metadata": {},
     "output_type": "execute_result"
    }
   ],
   "source": [
    "df.head()"
   ]
  },
  {
   "cell_type": "markdown",
   "metadata": {},
   "source": [
    "## 2.1 Data Dimensions"
   ]
  },
  {
   "cell_type": "code",
   "execution_count": 5,
   "metadata": {},
   "outputs": [],
   "source": [
    "df_dim = df.copy()"
   ]
  },
  {
   "cell_type": "code",
   "execution_count": 6,
   "metadata": {},
   "outputs": [
    {
     "data": {
      "text/plain": [
       "(381109, 12)"
      ]
     },
     "execution_count": 6,
     "metadata": {},
     "output_type": "execute_result"
    }
   ],
   "source": [
    "df_dim.shape"
   ]
  },
  {
   "cell_type": "code",
   "execution_count": 7,
   "metadata": {},
   "outputs": [
    {
     "data": {
      "text/plain": [
       "Index(['id', 'gender', 'age', 'region_code', 'policy_sales_channel',\n",
       "       'driving_license', 'vehicle_age', 'vehicle_damage',\n",
       "       'previously_insured', 'annual_premium', 'vintage', 'response'],\n",
       "      dtype='object')"
      ]
     },
     "execution_count": 7,
     "metadata": {},
     "output_type": "execute_result"
    }
   ],
   "source": [
    "df_dim.columns"
   ]
  },
  {
   "cell_type": "code",
   "execution_count": 8,
   "metadata": {},
   "outputs": [
    {
     "data": {
      "text/plain": [
       "id                        int64\n",
       "gender                   object\n",
       "age                       int64\n",
       "region_code             float64\n",
       "policy_sales_channel    float64\n",
       "driving_license           int64\n",
       "vehicle_age              object\n",
       "vehicle_damage           object\n",
       "previously_insured        int64\n",
       "annual_premium          float64\n",
       "vintage                   int64\n",
       "response                  int64\n",
       "dtype: object"
      ]
     },
     "execution_count": 8,
     "metadata": {},
     "output_type": "execute_result"
    }
   ],
   "source": [
    "df_dim.dtypes"
   ]
  },
  {
   "cell_type": "markdown",
   "metadata": {},
   "source": [
    "## 2.2 Change Types"
   ]
  },
  {
   "cell_type": "code",
   "execution_count": 9,
   "metadata": {},
   "outputs": [],
   "source": [
    "# region_code to int64\n",
    "df_dim['region_code'] = df_dim['region_code'].astype('int64')\n",
    "\n",
    "# policy_sales_channel to int64\n",
    "df_dim['policy_sales_channel'] = df_dim['policy_sales_channel'].astype('int64')\n",
    "\n",
    "# vehicle_age:\n",
    "#   <1 : 'New'\n",
    "#   1-2 : 'Average'\n",
    "#   >2 : 'Used'\n",
    "# WARNING: dont run this segment more than once, or all rows in the column 'vehicle_age' will be = 'Used' \n",
    "df_dim['vehicle_age'] = df_dim['vehicle_age'].apply(lambda x: 'New' if x == '< 1 Year' else\n",
    "                                            'Average' if x == '1-2 Year' else\n",
    "                                            'Used')\n",
    "\n",
    "# WARNING: dont run this segment more than once, or all rows in the columns will have the value after 'else' (No) \n",
    "df_dim['driving_license'] = df_dim['driving_license'].apply(lambda x: 'Yes' if x == 1 else 'No')\n",
    "df_dim['previously_insured'] = df_dim['previously_insured'].apply(lambda x: 'Yes' if x == 1 else 'No')"
   ]
  },
  {
   "cell_type": "markdown",
   "metadata": {},
   "source": [
    "## 2.3 Check and Fill NAs"
   ]
  },
  {
   "cell_type": "code",
   "execution_count": 10,
   "metadata": {},
   "outputs": [
    {
     "name": "stdout",
     "output_type": "stream",
     "text": [
      "Not a single NA on this dataset\n"
     ]
    }
   ],
   "source": [
    "# dropna() function removes rows (by default) which at least one NA value\n",
    "# So, if at least one row was removed, then we have at least one NA value on this dataset\n",
    "if (df_dim.dropna().shape == df_dim.shape):\n",
    "    print('Not a single NA on this dataset')\n",
    "\n",
    "else:\n",
    "    print('There is at least one NA value on this dataset')"
   ]
  },
  {
   "cell_type": "markdown",
   "metadata": {},
   "source": [
    "## 2.4 Descriptive Statistics"
   ]
  },
  {
   "cell_type": "code",
   "execution_count": 11,
   "metadata": {},
   "outputs": [],
   "source": [
    "df_desc = df_dim.copy()"
   ]
  },
  {
   "cell_type": "markdown",
   "metadata": {},
   "source": [
    "### 2.4.1 Separating Numerical and Categorical Attributes"
   ]
  },
  {
   "cell_type": "code",
   "execution_count": 12,
   "metadata": {},
   "outputs": [],
   "source": [
    "# numerical attributes\n",
    "aux = df_desc.applymap(np.isreal) # All numeric values will be set as True. Non-numeric will be set as 'False'\n",
    "num_att = df_desc[aux] # copy all numeric values. Non-numeric will be set as 'NaN'\n",
    "num_att = num_att.dropna(axis=1) # drop entire column if it contains any NA value\n",
    "\n",
    "# categorical attributes\n",
    "cat_att = df_desc[~ aux] # copy all non-numeric values (see the negation ~ signal). Numeric will be set as 'NaN'\n",
    "cat_att = cat_att.dropna(axis=1) # drop entire column if it contains any NA value"
   ]
  },
  {
   "cell_type": "markdown",
   "metadata": {},
   "source": [
    "### 2.4.2 Numerical Attributes Metrics"
   ]
  },
  {
   "cell_type": "code",
   "execution_count": 13,
   "metadata": {},
   "outputs": [],
   "source": [
    "num_att = num_att.drop(columns = 'id') # it is not useful to know metrics of this column\n",
    "\n",
    "# central tendency\n",
    "mean = pd.DataFrame(num_att.apply(np.mean)).T\n",
    "median = pd.DataFrame(num_att.apply(np.median)).T\n",
    "\n",
    "# dispersion metrics\n",
    "std = pd.DataFrame(num_att.apply(np.std)).T\n",
    "min_ = pd.DataFrame(num_att.min()).T\n",
    "max_ = pd.DataFrame(num_att.max()).T\n",
    "range = pd.DataFrame(num_att.apply(lambda x: x.max() - x.min())).T\n",
    "skew = pd.DataFrame(num_att.apply(lambda x: x.skew())).T\n",
    "kurtosis = pd.DataFrame(num_att.apply(lambda x: x.kurtosis())).T\n",
    "\n",
    "# concatenate\n",
    "metrics = pd.concat([mean, median, std, min_, max_, range, skew, kurtosis]).T.reset_index()\n",
    "metrics.columns = ['attributes', 'avg', 'median', 'std', 'min', 'max', 'range', 'skew', 'kurtosis']"
   ]
  },
  {
   "cell_type": "code",
   "execution_count": 14,
   "metadata": {},
   "outputs": [
    {
     "data": {
      "text/html": [
       "<div>\n",
       "<style scoped>\n",
       "    .dataframe tbody tr th:only-of-type {\n",
       "        vertical-align: middle;\n",
       "    }\n",
       "\n",
       "    .dataframe tbody tr th {\n",
       "        vertical-align: top;\n",
       "    }\n",
       "\n",
       "    .dataframe thead th {\n",
       "        text-align: right;\n",
       "    }\n",
       "</style>\n",
       "<table border=\"1\" class=\"dataframe\">\n",
       "  <thead>\n",
       "    <tr style=\"text-align: right;\">\n",
       "      <th></th>\n",
       "      <th>attributes</th>\n",
       "      <th>avg</th>\n",
       "      <th>median</th>\n",
       "      <th>std</th>\n",
       "      <th>min</th>\n",
       "      <th>max</th>\n",
       "      <th>range</th>\n",
       "      <th>skew</th>\n",
       "      <th>kurtosis</th>\n",
       "    </tr>\n",
       "  </thead>\n",
       "  <tbody>\n",
       "    <tr>\n",
       "      <th>0</th>\n",
       "      <td>age</td>\n",
       "      <td>38.822584</td>\n",
       "      <td>36.0</td>\n",
       "      <td>15.511591</td>\n",
       "      <td>20.0</td>\n",
       "      <td>85.0</td>\n",
       "      <td>65.0</td>\n",
       "      <td>0.672539</td>\n",
       "      <td>-0.565655</td>\n",
       "    </tr>\n",
       "    <tr>\n",
       "      <th>1</th>\n",
       "      <td>region_code</td>\n",
       "      <td>26.388807</td>\n",
       "      <td>28.0</td>\n",
       "      <td>13.229871</td>\n",
       "      <td>0.0</td>\n",
       "      <td>52.0</td>\n",
       "      <td>52.0</td>\n",
       "      <td>-0.115266</td>\n",
       "      <td>-0.867857</td>\n",
       "    </tr>\n",
       "    <tr>\n",
       "      <th>2</th>\n",
       "      <td>policy_sales_channel</td>\n",
       "      <td>112.034295</td>\n",
       "      <td>133.0</td>\n",
       "      <td>54.203924</td>\n",
       "      <td>1.0</td>\n",
       "      <td>163.0</td>\n",
       "      <td>162.0</td>\n",
       "      <td>-0.900008</td>\n",
       "      <td>-0.970810</td>\n",
       "    </tr>\n",
       "    <tr>\n",
       "      <th>3</th>\n",
       "      <td>annual_premium</td>\n",
       "      <td>30564.389581</td>\n",
       "      <td>31669.0</td>\n",
       "      <td>17213.132474</td>\n",
       "      <td>2630.0</td>\n",
       "      <td>540165.0</td>\n",
       "      <td>537535.0</td>\n",
       "      <td>1.766087</td>\n",
       "      <td>34.004569</td>\n",
       "    </tr>\n",
       "    <tr>\n",
       "      <th>4</th>\n",
       "      <td>vintage</td>\n",
       "      <td>154.347397</td>\n",
       "      <td>154.0</td>\n",
       "      <td>83.671194</td>\n",
       "      <td>10.0</td>\n",
       "      <td>299.0</td>\n",
       "      <td>289.0</td>\n",
       "      <td>0.003030</td>\n",
       "      <td>-1.200688</td>\n",
       "    </tr>\n",
       "    <tr>\n",
       "      <th>5</th>\n",
       "      <td>response</td>\n",
       "      <td>0.122563</td>\n",
       "      <td>0.0</td>\n",
       "      <td>0.327935</td>\n",
       "      <td>0.0</td>\n",
       "      <td>1.0</td>\n",
       "      <td>1.0</td>\n",
       "      <td>2.301906</td>\n",
       "      <td>3.298788</td>\n",
       "    </tr>\n",
       "  </tbody>\n",
       "</table>\n",
       "</div>"
      ],
      "text/plain": [
       "             attributes           avg   median           std     min  \\\n",
       "0                   age     38.822584     36.0     15.511591    20.0   \n",
       "1           region_code     26.388807     28.0     13.229871     0.0   \n",
       "2  policy_sales_channel    112.034295    133.0     54.203924     1.0   \n",
       "3        annual_premium  30564.389581  31669.0  17213.132474  2630.0   \n",
       "4               vintage    154.347397    154.0     83.671194    10.0   \n",
       "5              response      0.122563      0.0      0.327935     0.0   \n",
       "\n",
       "        max     range      skew   kurtosis  \n",
       "0      85.0      65.0  0.672539  -0.565655  \n",
       "1      52.0      52.0 -0.115266  -0.867857  \n",
       "2     163.0     162.0 -0.900008  -0.970810  \n",
       "3  540165.0  537535.0  1.766087  34.004569  \n",
       "4     299.0     289.0  0.003030  -1.200688  \n",
       "5       1.0       1.0  2.301906   3.298788  "
      ]
     },
     "execution_count": 14,
     "metadata": {},
     "output_type": "execute_result"
    }
   ],
   "source": [
    "metrics"
   ]
  },
  {
   "cell_type": "code",
   "execution_count": 15,
   "metadata": {},
   "outputs": [
    {
     "data": {
      "image/png": "[encoded data removed]",
      "text/plain": [
       "<Figure size 360x360 with 1 Axes>"
      ]
     },
     "metadata": {
      "needs_background": "light"
     },
     "output_type": "display_data"
    }
   ],
   "source": [
    "sns.displot(num_att['age']);"
   ]
  },
  {
   "cell_type": "markdown",
   "metadata": {},
   "source": [
    "### 2.4.3 Categorical Attributes"
   ]
  },
  {
   "cell_type": "code",
   "execution_count": 16,
   "metadata": {},
   "outputs": [
    {
     "data": {
      "text/plain": [
       "gender                2\n",
       "driving_license       2\n",
       "vehicle_age           3\n",
       "vehicle_damage        2\n",
       "previously_insured    2\n",
       "dtype: int64"
      ]
     },
     "execution_count": 16,
     "metadata": {},
     "output_type": "execute_result"
    }
   ],
   "source": [
    "# how many unique categories\n",
    "cat_att.apply(lambda x: x.unique().shape[0])"
   ]
  },
  {
   "cell_type": "markdown",
   "metadata": {},
   "source": [
    "#### 2.4.3.1 Response by Gender"
   ]
  },
  {
   "cell_type": "code",
   "execution_count": 50,
   "metadata": {},
   "outputs": [
    {
     "data": {
      "image/png": "[encoded data removed]",
      "text/plain": [
       "<Figure size 485.25x432 with 1 Axes>"
      ]
     },
     "metadata": {
      "needs_background": "light"
     },
     "output_type": "display_data"
    }
   ],
   "source": [
    "# splitting dataset by gender and response then counting unique ids within each group\n",
    "response_count = df_desc[['id', 'gender', 'response']].groupby(['gender', 'response']).count()\n",
    "response_count.columns = ['count']\n",
    "response_count = response_count.reset_index(level=['gender', 'response']) # transform gender and response index keys into columns\n",
    "\n",
    "# replaces 1/0 values by Yes/No\n",
    "response_count['response'] = response_count['response'].apply(lambda x: 'Yes' if x == 1 else 'No')\n",
    "\n",
    "# calculates how many responses as percentage from total responses of each gender\n",
    "response_count['pct%'] = 100 * response_count['count'] / (response_count.groupby('gender')['count'].transform('sum'))\n",
    "\n",
    "# draw a nested barplot by response and gender\n",
    "g = sns.catplot(\n",
    "    data = response_count,\n",
    "    kind = 'bar',\n",
    "    x = 'gender',\n",
    "    y = 'pct%',\n",
    "    order = ['Male', 'Female'], # categories plot order\n",
    "    hue = 'response',\n",
    "    hue_order = ['Yes', 'No'], # bars plot order\n",
    "    palette = 'dark',\n",
    "    alpha = 0.6,\n",
    "    height = 6\n",
    ")\n",
    "\n",
    "# set labels\n",
    "g.set_axis_labels(\"Gender\", \"Response %\")\n",
    "#g.legend.set_title(\"Response\")\n",
    "sns.move_legend(g, loc='upper left', bbox_to_anchor=(0.90, 0.5), title='Do you want car insurance?')\n",
    "\n",
    "# plot Y-axis values on top of each bar\n",
    "ax = g.facet_axis(0,0)\n",
    "for container in ax.containers:\n",
    "    ax.bar_label(container, fmt='%.2f %%')"
   ]
  },
  {
   "cell_type": "markdown",
   "metadata": {},
   "source": [
    "#### 2.4.3.2 Response by Driving License"
   ]
  },
  {
   "cell_type": "code",
   "execution_count": 47,
   "metadata": {},
   "outputs": [
    {
     "data": {
      "image/png": "[encoded data removed]",
      "text/plain": [
       "<Figure size 485.25x432 with 1 Axes>"
      ]
     },
     "metadata": {
      "needs_background": "light"
     },
     "output_type": "display_data"
    }
   ],
   "source": [
    "# splitting dataset by driving license status and response then counting unique ids within each group\n",
    "response_count = df_desc[['id', 'driving_license', 'response']].groupby(['driving_license', 'response']).count()\n",
    "response_count.columns = ['count']\n",
    "response_count = response_count.reset_index(level=['driving_license', 'response']) # transform driving_license and response index keys into columns\n",
    "\n",
    "# replaces 1/0 values by Yes/No\n",
    "response_count['response'] = response_count['response'].apply(lambda x: 'Yes' if x == 1 else 'No')\n",
    "\n",
    "# calculates how many responses as percentage from total responses of each driving_license\n",
    "response_count['pct%'] = 100 * response_count['count'] / (response_count.groupby('driving_license')['count'].transform('sum'))\n",
    "\n",
    "# draw a nested barplot by response and driving_license\n",
    "g = sns.catplot(\n",
    "    data = response_count,\n",
    "    kind = 'bar',\n",
    "    x = 'driving_license',\n",
    "    y = 'pct%',\n",
    "    order = ['Yes', 'No'], # categories plot order\n",
    "    hue = 'response',\n",
    "    hue_order = ['Yes', 'No'], # bars plot order\n",
    "    palette = 'dark',\n",
    "    alpha = 0.6,\n",
    "    height = 6\n",
    ")\n",
    "\n",
    "# set labels\n",
    "g.set_axis_labels(\"Driving License Status\", \"Response %\")\n",
    "#g.legend.set_title(\"Response\")\n",
    "sns.move_legend(g, loc='upper left', bbox_to_anchor=(0.90, 0.5), title='Do you want car insurance?')\n",
    "\n",
    "# plot Y-axis values on top of each bar\n",
    "ax = g.facet_axis(0,0)\n",
    "for container in ax.containers:\n",
    "    ax.bar_label(container, fmt='%.2f %%')"
   ]
  },
  {
   "cell_type": "markdown",
   "metadata": {},
   "source": [
    "#### 2.4.3.3 Response by Vehicle Age"
   ]
  },
  {
   "cell_type": "code",
   "execution_count": 49,
   "metadata": {},
   "outputs": [
    {
     "data": {
      "image/png": "[encoded data removed]",
      "text/plain": [
       "<Figure size 485.25x432 with 1 Axes>"
      ]
     },
     "metadata": {
      "needs_background": "light"
     },
     "output_type": "display_data"
    }
   ],
   "source": [
    "# splitting dataset by vehicle age and response then counting unique ids within each group\n",
    "response_count = df_desc[['id', 'vehicle_age', 'response']].groupby(['vehicle_age', 'response']).count()\n",
    "response_count.columns = ['count']\n",
    "response_count = response_count.reset_index(level=['vehicle_age', 'response']) # transform vehicle_age and response index keys into columns\n",
    "\n",
    "# replaces 1/0 values by Yes/No\n",
    "response_count['response'] = response_count['response'].apply(lambda x: 'Yes' if x == 1 else 'No')\n",
    "\n",
    "# calculates how many responses as percentage from total responses of each vehicle_age\n",
    "response_count['pct%'] = 100 * response_count['count'] / (response_count.groupby('vehicle_age')['count'].transform('sum'))\n",
    "\n",
    "# draw a nested barplot by response and vehicle_age\n",
    "g = sns.catplot(\n",
    "    data = response_count,\n",
    "    kind = 'bar',\n",
    "    x = 'vehicle_age',\n",
    "    y = 'pct%',\n",
    "    order = ['New', 'Average', 'Used'], # categories plot order (x-axis)\n",
    "    hue = 'response',\n",
    "    hue_order = ['Yes', 'No'], # bars plot order\n",
    "    palette = 'dark',\n",
    "    alpha = 0.6,\n",
    "    height = 6\n",
    ")\n",
    "\n",
    "# set labels\n",
    "g.set_axis_labels(\"Vehicle Age\", \"Response %\")\n",
    "#g.legend.set_title(\"Response\")\n",
    "sns.move_legend(g, loc='upper left', bbox_to_anchor=(0.90, 0.5), title='Do you want car insurance?')\n",
    "\n",
    "# plot Y-axis values on top of each bar\n",
    "ax = g.facet_axis(0,0)\n",
    "for container in ax.containers:\n",
    "    ax.bar_label(container, fmt='%.2f %%')"
   ]
  },
  {
   "cell_type": "markdown",
   "metadata": {},
   "source": [
    "#### 2.4.3.4 Response by Vehicle Damage ocurrence"
   ]
  },
  {
   "cell_type": "code",
   "execution_count": 53,
   "metadata": {},
   "outputs": [
    {
     "data": {
      "image/png": "[encoded data removed]",
      "text/plain": [
       "<Figure size 485.25x432 with 1 Axes>"
      ]
     },
     "metadata": {
      "needs_background": "light"
     },
     "output_type": "display_data"
    }
   ],
   "source": [
    "# splitting dataset by vehicle_damage and response then counting unique ids within each group\n",
    "response_count = df_desc[['id', 'vehicle_damage', 'response']].groupby(['vehicle_damage', 'response']).count()\n",
    "response_count.columns = ['count']\n",
    "response_count = response_count.reset_index(level=['vehicle_damage', 'response']) # transform vehicle_damage and response index keys into columns\n",
    "\n",
    "# replaces 1/0 values by Yes/No\n",
    "response_count['response'] = response_count['response'].apply(lambda x: 'Yes' if x == 1 else 'No')\n",
    "\n",
    "# calculates how many responses as percentage from total responses of each vehicle_damage\n",
    "response_count['pct%'] = 100 * response_count['count'] / (response_count.groupby('vehicle_damage')['count'].transform('sum'))\n",
    "\n",
    "# draw a nested barplot by response and vehicle_damage\n",
    "g = sns.catplot(\n",
    "    data = response_count,\n",
    "    kind = 'bar',\n",
    "    x = 'vehicle_damage',\n",
    "    y = 'pct%',\n",
    "    order = ['Yes', 'No'], # categories plot order (x-axis)\n",
    "    hue = 'response',\n",
    "    hue_order = ['Yes', 'No'], # bars plot order\n",
    "    palette = 'dark',\n",
    "    alpha = 0.6,\n",
    "    height = 6\n",
    ")\n",
    "\n",
    "# set labels\n",
    "g.set_axis_labels(\"Vehicle Damaged before?\", \"Response %\")\n",
    "sns.move_legend(g, loc='upper left', bbox_to_anchor=(0.90, 0.5), title='Do you want car insurance?')\n",
    "\n",
    "# plot Y-axis values on top of each bar\n",
    "ax = g.facet_axis(0,0)\n",
    "for container in ax.containers:\n",
    "    ax.bar_label(container, fmt='%.2f %%')"
   ]
  },
  {
   "cell_type": "markdown",
   "metadata": {},
   "source": [
    "#### 2.4.3.5 Response by Previously Insured status"
   ]
  },
  {
   "cell_type": "code",
   "execution_count": 52,
   "metadata": {},
   "outputs": [
    {
     "data": {
      "image/png": "[encoded data removed]",
      "text/plain": [
       "<Figure size 485.25x432 with 1 Axes>"
      ]
     },
     "metadata": {
      "needs_background": "light"
     },
     "output_type": "display_data"
    }
   ],
   "source": [
    "# splitting dataset by previously_insured and response then counting unique ids within each group\n",
    "response_count = df_desc[['id', 'previously_insured', 'response']].groupby(['previously_insured', 'response']).count()\n",
    "response_count.columns = ['count']\n",
    "response_count = response_count.reset_index(level=['previously_insured', 'response']) # transform previously_insured and response index keys into columns\n",
    "\n",
    "# replaces 1/0 values by Yes/No\n",
    "response_count['response'] = response_count['response'].apply(lambda x: 'Yes' if x == 1 else 'No')\n",
    "\n",
    "# calculates how many responses as percentage from total responses of each previously_insured\n",
    "response_count['pct%'] = 100 * response_count['count'] / (response_count.groupby('previously_insured')['count'].transform('sum'))\n",
    "\n",
    "# draw a nested barplot by response and previously_insured\n",
    "g = sns.catplot(\n",
    "    data = response_count,\n",
    "    kind = 'bar',\n",
    "    x = 'previously_insured',\n",
    "    y = 'pct%',\n",
    "    order = ['Yes', 'No'], # categories plot order (x-axis)\n",
    "    hue = 'response',\n",
    "    hue_order = ['Yes', 'No'], # bars plot order\n",
    "    palette = 'dark',\n",
    "    alpha = 0.6,\n",
    "    height = 6\n",
    ")\n",
    "\n",
    "# set labels\n",
    "g.set_axis_labels(\"Previously Insured Vehicle?\", \"Response %\")\n",
    "sns.move_legend(g, loc='upper left', bbox_to_anchor=(0.90, 0.5), title='Do you want car insurance?')\n",
    "\n",
    "# plot Y-axis values on top of each bar\n",
    "ax = g.facet_axis(0,0)\n",
    "for container in ax.containers:\n",
    "    ax.bar_label(container, fmt='%.2f %%')"
   ]
  }
 ],
 "metadata": {
  "interpreter": {
   "hash": "c91577f87f28a74f53eb86828a7349c9fe5e5528e7d35071f85bba277e374d2b"
  },
  "kernelspec": {
   "display_name": "Python 3.10.0 64-bit ('venv-PA004': pyenv)",
   "language": "python",
   "name": "python3"
  },
  "language_info": {
   "codemirror_mode": {
    "name": "ipython",
    "version": 3
   },
   "file_extension": ".py",
   "mimetype": "text/x-python",
   "name": "python",
   "nbconvert_exporter": "python",
   "pygments_lexer": "ipython3",
   "version": "3.10.0"
  },
  "orig_nbformat": 4
 },
 "nbformat": 4,
 "nbformat_minor": 2
}
