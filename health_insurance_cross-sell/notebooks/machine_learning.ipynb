{
 "cells": [
  {
   "cell_type": "markdown",
   "metadata": {},
   "source": [
    "# 0. Imports"
   ]
  },
  {
   "cell_type": "code",
   "execution_count": 1,
   "metadata": {},
   "outputs": [],
   "source": [
    "import pandas as pd\n",
    "import numpy as np\n",
    "import sys\n",
    "import seaborn as sns\n",
    "import scikitplot as skplt\n",
    "\n",
    "from pathlib import Path\n",
    "from matplotlib import pyplot as plt\n",
    "\n",
    "from scipy import stats\n",
    "from sklearn import preprocessing as pp\n",
    "from sklearn import model_selection as ms\n",
    "from sklearn import ensemble as en\n",
    "from sklearn import neighbors as nh\n",
    "from sklearn import linear_model as lm"
   ]
  },
  {
   "cell_type": "markdown",
   "metadata": {},
   "source": [
    "# 0.1. Helper Functions"
   ]
  },
  {
   "cell_type": "code",
   "execution_count": 54,
   "metadata": {},
   "outputs": [],
   "source": [
    "def precision_at_k (data, target, score, k = 2000):\n",
    "    \n",
    "    # sort list by propensity score value\n",
    "    data = data.sort_values(score, ascending = False)\n",
    "    \n",
    "    # create ranking order\n",
    "    data['ranking'] = data.reset_index().index + 1 # ranking number starts at 1\n",
    "\n",
    "    # create precision_at_k column\n",
    "    data['precision_at_k'] = data[target].cumsum() / data['ranking']\n",
    "\n",
    "    # return precision value at k row\n",
    "    return data.loc[k, 'precision_at_k']\n",
    "\n",
    "\n",
    "def recall_at_k (data, target, score, k = 2000):\n",
    "    \n",
    "    # sort list by propensity score value\n",
    "    data = data.sort_values(score, ascending = False)\n",
    "    \n",
    "    # create ranking order\n",
    "    data['ranking'] = data.reset_index().index + 1 # ranking number starts at 1\n",
    "\n",
    "    # create recall_at_k column\n",
    "    data['recall_at_k'] = data[target].cumsum() / data[target].sum() # target column must be binary (1 or 0 values)\n",
    "\n",
    "    # return precision value at k row\n",
    "    return data.loc[k, 'recall_at_k']"
   ]
  },
  {
   "cell_type": "markdown",
   "metadata": {},
   "source": [
    "# 1. Data Preparation"
   ]
  },
  {
   "cell_type": "code",
   "execution_count": 2,
   "metadata": {},
   "outputs": [],
   "source": [
    "# load data\n",
    "path = str(Path.cwd().parents[0] / \"data\" / \"processed\")\n",
    "path = path + '/' + 'df_eda.csv'\n",
    "\n",
    "df = pd.read_csv(path)"
   ]
  },
  {
   "cell_type": "code",
   "execution_count": 3,
   "metadata": {},
   "outputs": [],
   "source": [
    "# return variables to original values\n",
    "\n",
    "# response\n",
    "# driving_license\n",
    "# vehicle_damage\n",
    "# previously_insured\n",
    "\n",
    "for i in df.columns:\n",
    "\n",
    "    if (i == 'response') | (i == 'driving_license') | (i == 'vehicle_damage') | (i == 'previously_insured'):\n",
    "        df[i] = df[i].apply(lambda x: 1 if x == 'Yes' else 0)\n",
    "    \n",
    "    else:\n",
    "        pass"
   ]
  },
  {
   "cell_type": "code",
   "execution_count": 4,
   "metadata": {},
   "outputs": [
    {
     "data": {
      "text/html": [
       "<div>\n",
       "<style scoped>\n",
       "    .dataframe tbody tr th:only-of-type {\n",
       "        vertical-align: middle;\n",
       "    }\n",
       "\n",
       "    .dataframe tbody tr th {\n",
       "        vertical-align: top;\n",
       "    }\n",
       "\n",
       "    .dataframe thead th {\n",
       "        text-align: right;\n",
       "    }\n",
       "</style>\n",
       "<table border=\"1\" class=\"dataframe\">\n",
       "  <thead>\n",
       "    <tr style=\"text-align: right;\">\n",
       "      <th></th>\n",
       "      <th>id</th>\n",
       "      <th>gender</th>\n",
       "      <th>age</th>\n",
       "      <th>region_code</th>\n",
       "      <th>policy_sales_channel</th>\n",
       "      <th>driving_license</th>\n",
       "      <th>vehicle_age</th>\n",
       "      <th>vehicle_damage</th>\n",
       "      <th>previously_insured</th>\n",
       "      <th>annual_premium</th>\n",
       "      <th>vintage</th>\n",
       "      <th>response</th>\n",
       "    </tr>\n",
       "  </thead>\n",
       "  <tbody>\n",
       "    <tr>\n",
       "      <th>0</th>\n",
       "      <td>7</td>\n",
       "      <td>Male</td>\n",
       "      <td>23</td>\n",
       "      <td>11</td>\n",
       "      <td>152</td>\n",
       "      <td>1</td>\n",
       "      <td>New</td>\n",
       "      <td>1</td>\n",
       "      <td>0</td>\n",
       "      <td>23367.0</td>\n",
       "      <td>249</td>\n",
       "      <td>0</td>\n",
       "    </tr>\n",
       "    <tr>\n",
       "      <th>1</th>\n",
       "      <td>13</td>\n",
       "      <td>Female</td>\n",
       "      <td>41</td>\n",
       "      <td>15</td>\n",
       "      <td>14</td>\n",
       "      <td>1</td>\n",
       "      <td>Average</td>\n",
       "      <td>0</td>\n",
       "      <td>1</td>\n",
       "      <td>31409.0</td>\n",
       "      <td>221</td>\n",
       "      <td>0</td>\n",
       "    </tr>\n",
       "    <tr>\n",
       "      <th>2</th>\n",
       "      <td>18</td>\n",
       "      <td>Female</td>\n",
       "      <td>25</td>\n",
       "      <td>35</td>\n",
       "      <td>152</td>\n",
       "      <td>1</td>\n",
       "      <td>New</td>\n",
       "      <td>0</td>\n",
       "      <td>1</td>\n",
       "      <td>46622.0</td>\n",
       "      <td>299</td>\n",
       "      <td>0</td>\n",
       "    </tr>\n",
       "    <tr>\n",
       "      <th>3</th>\n",
       "      <td>31</td>\n",
       "      <td>Female</td>\n",
       "      <td>26</td>\n",
       "      <td>8</td>\n",
       "      <td>160</td>\n",
       "      <td>1</td>\n",
       "      <td>New</td>\n",
       "      <td>0</td>\n",
       "      <td>0</td>\n",
       "      <td>2630.0</td>\n",
       "      <td>136</td>\n",
       "      <td>0</td>\n",
       "    </tr>\n",
       "    <tr>\n",
       "      <th>4</th>\n",
       "      <td>39</td>\n",
       "      <td>Male</td>\n",
       "      <td>45</td>\n",
       "      <td>8</td>\n",
       "      <td>124</td>\n",
       "      <td>1</td>\n",
       "      <td>Average</td>\n",
       "      <td>1</td>\n",
       "      <td>0</td>\n",
       "      <td>42297.0</td>\n",
       "      <td>264</td>\n",
       "      <td>0</td>\n",
       "    </tr>\n",
       "  </tbody>\n",
       "</table>\n",
       "</div>"
      ],
      "text/plain": [
       "   id  gender  age  region_code  policy_sales_channel  driving_license  \\\n",
       "0   7    Male   23           11                   152                1   \n",
       "1  13  Female   41           15                    14                1   \n",
       "2  18  Female   25           35                   152                1   \n",
       "3  31  Female   26            8                   160                1   \n",
       "4  39    Male   45            8                   124                1   \n",
       "\n",
       "  vehicle_age  vehicle_damage  previously_insured  annual_premium  vintage  \\\n",
       "0         New               1                   0         23367.0      249   \n",
       "1     Average               0                   1         31409.0      221   \n",
       "2         New               0                   1         46622.0      299   \n",
       "3         New               0                   0          2630.0      136   \n",
       "4     Average               1                   0         42297.0      264   \n",
       "\n",
       "   response  \n",
       "0         0  \n",
       "1         0  \n",
       "2         0  \n",
       "3         0  \n",
       "4         0  "
      ]
     },
     "execution_count": 4,
     "metadata": {},
     "output_type": "execute_result"
    }
   ],
   "source": [
    "df.head()"
   ]
  },
  {
   "cell_type": "code",
   "execution_count": 5,
   "metadata": {},
   "outputs": [],
   "source": [
    "# simulates production environment\n",
    "\n",
    "X = df.drop('response', axis = 1) # real data does not contain response\n",
    "y = df['response'].copy()\n",
    "\n",
    "x_train, x_val, y_train, y_val = ms.train_test_split(X, y, test_size = 0.20) # spit dataset between train and test\n",
    "\n",
    "df = pd.concat([x_train, y_train], axis = 1)"
   ]
  },
  {
   "cell_type": "markdown",
   "metadata": {},
   "source": [
    "## Standardization\n",
    "Only attributes with Normal distribution."
   ]
  },
  {
   "cell_type": "code",
   "execution_count": 6,
   "metadata": {},
   "outputs": [],
   "source": [
    "# annual_premium (we will not remove outliers now)\n",
    "\n",
    "ss = pp.StandardScaler()\n",
    "\n",
    "df['annual_premium'] = ss.fit_transform(df[['annual_premium']].values) # encoder receives an array"
   ]
  },
  {
   "cell_type": "markdown",
   "metadata": {},
   "source": [
    "## Rescaling"
   ]
  },
  {
   "cell_type": "code",
   "execution_count": 7,
   "metadata": {},
   "outputs": [],
   "source": [
    "# saves scaler to the same variable which will be used in the test\n",
    "mms_age = pp.MinMaxScaler() \n",
    "mms_vintage = pp.MinMaxScaler()\n",
    "\n",
    "# age\n",
    "df['age'] = mms_age.fit_transform(df[['age']].values)\n",
    "\n",
    "# vintage\n",
    "df['vintage'] = mms_vintage.fit_transform(df[['vintage']].values)"
   ]
  },
  {
   "cell_type": "markdown",
   "metadata": {},
   "source": [
    "## Encoding\n",
    "Only categorical attributes which we want to mantain its nature (eg. binary, ordinal)"
   ]
  },
  {
   "cell_type": "code",
   "execution_count": 8,
   "metadata": {},
   "outputs": [],
   "source": [
    "# gender\n",
    "target_encode_gender = df.groupby('gender')['response'].mean()\n",
    "df.loc[:,'gender'] = df['gender'].map(target_encode_gender)\n",
    "\n",
    "# region_code - Frequency Encoding | Target Encoding (we choose this) | Weigthed Target Encoding\n",
    "target_encode_region_code = df.groupby('region_code')['response'].mean()\n",
    "df.loc[:,'region_code'] = df['region_code'].map(target_encode_region_code) # replace all values within policy_sales_channel column with encoded values\n",
    "\n",
    "# vehicle_age - One Hot Encoding (we choose this) | Order Encoding\n",
    "df = pd.get_dummies(df, prefix = 'vehicle_age', columns = ['vehicle_age'])\n",
    "\n",
    "# policy_sales_channel - Target Encoding | Frequency Encoding (we choose this)\n",
    "# Frequency Encoding gives more weight to more frequent values of the categorical attribute\n",
    "fe_policy_sales_channel = df.groupby('policy_sales_channel').size() / len(df)\n",
    "df.loc[:,'policy_sales_channel'] = df['policy_sales_channel'].map(fe_policy_sales_channel) # replace all values within policy_sales_channel column with encoded values\n"
   ]
  },
  {
   "cell_type": "markdown",
   "metadata": {},
   "source": [
    "## Validation Preparation"
   ]
  },
  {
   "cell_type": "code",
   "execution_count": 9,
   "metadata": {},
   "outputs": [],
   "source": [
    "# applies same training encoders to testing (validation, val) data\n",
    "\n",
    "# gender\n",
    "x_val.loc[:, 'gender'] = x_val.loc[:, 'gender'].map(target_encode_gender)\n",
    "\n",
    "# age\n",
    "x_val.loc[:, 'age'] = mms_age.transform(x_val[['age']].values)\n",
    "\n",
    "# region_code\n",
    "x_val.loc[:, 'region_code'] = x_val.loc[:, 'region_code'].map(target_encode_region_code)\n",
    "\n",
    "# vehicle_age\n",
    "x_val.loc[:, 'vehicle_age'] = pd.get_dummies(x_val, prefix = 'vehicle_age', columns = ['vehicle_age'])\n",
    "\n",
    "# annual_premium\n",
    "x_val.loc[:, 'annual_premium'] = ss.transform(x_val[['annual_premium']].values)\n",
    "\n",
    "# policy_sales_channel\n",
    "x_val.loc[:, 'policy_sales_channel'] = x_val['policy_sales_channel'].map(fe_policy_sales_channel)\n",
    "\n",
    "# vintage\n",
    "x_val.loc[:, 'vintage'] = mms_vintage.transform(x_val[['vintage']].values)\n",
    "\n",
    "# fillna\n",
    "x_val = x_val.fillna(0)"
   ]
  },
  {
   "cell_type": "markdown",
   "metadata": {},
   "source": [
    "# 2. Feature Selection"
   ]
  },
  {
   "cell_type": "markdown",
   "metadata": {},
   "source": [
    "## 2.1. Features Importancy"
   ]
  },
  {
   "cell_type": "code",
   "execution_count": 10,
   "metadata": {},
   "outputs": [],
   "source": [
    "# # model definition\n",
    "# forest = en.ExtraTreesClassifier(n_estimators = 250, random_state = 0, n_jobs = -2) # n_jobs will not use all cores\n",
    "\n",
    "# # data preparation\n",
    "# x_train_n = df.drop(['id', 'response'], axis = 1)\n",
    "# y_train_n = y_train.values\n",
    "# forest.fit(x_train_n, y_train_n)"
   ]
  },
  {
   "cell_type": "code",
   "execution_count": 11,
   "metadata": {},
   "outputs": [],
   "source": [
    "# importances = forest.feature_importances_\n",
    "# std = np.std([tree.feature_importances_ for tree in forest.estimators_], axis = 0)\n",
    "# indices = np.argsort(importances)[::-1]\n",
    "\n",
    "# # Print feature ranking\n",
    "# print('Feature Ranking:')\n",
    "# data = pd.DataFrame()\n",
    "# for i, j in zip(x_train_n, forest.feature_importances_):\n",
    "#     aux = pd.DataFrame({'feature': i, 'importance': j}, index = [0])\n",
    "#     data = pd.concat([data, aux], axis = 0)\n",
    "\n",
    "# print(data.sort_values('importance', ascending = False))\n",
    "\n",
    "# # Plot the impurity-based feature importances of the forest\n",
    "# plt.figure()\n",
    "# plt.title('Feature Importances')\n",
    "# plt.bar(range(x_train_n.shape[1]), importances[indices], color = 'r', yerr = std[indices], align = 'center')\n",
    "# plt.xticks(range(x_train_n.shape[1]), indices)\n",
    "# plt.xlim([-1, x_train_n.shape[1]])\n",
    "# plt.show()\n"
   ]
  },
  {
   "cell_type": "markdown",
   "metadata": {},
   "source": [
    "# 3. Machine Learning"
   ]
  },
  {
   "cell_type": "code",
   "execution_count": 12,
   "metadata": {},
   "outputs": [],
   "source": [
    "# arbitrary selection\n",
    "cols_selected = ['vintage', 'annual_premium', 'age', 'region_code', 'vehicle_damage', 'policy_sales_channel', 'previously_insured']"
   ]
  },
  {
   "cell_type": "code",
   "execution_count": 13,
   "metadata": {},
   "outputs": [],
   "source": [
    "# using only the selected features to train and test (validation) the model\n",
    "x_train = df[cols_selected]\n",
    "x_val = x_val[cols_selected]"
   ]
  },
  {
   "cell_type": "markdown",
   "metadata": {},
   "source": [
    "## 3.1. KNN"
   ]
  },
  {
   "cell_type": "code",
   "execution_count": 14,
   "metadata": {},
   "outputs": [
    {
     "data": {
      "image/png": "[encoded data removed]",
      "text/plain": [
       "<Figure size 432x288 with 1 Axes>"
      ]
     },
     "metadata": {
      "needs_background": "light"
     },
     "output_type": "display_data"
    }
   ],
   "source": [
    "# model definition\n",
    "knn_model = nh.KNeighborsClassifier(n_neighbors = 7)\n",
    "\n",
    "# model training\n",
    "knn_model.fit(x_train, y_train)\n",
    "\n",
    "# model prediction - Generalizing Power\n",
    "yhat_knn = knn_model.predict_proba(x_val)\n",
    "\n",
    "# Accumulative Gain\n",
    "skplt.metrics.plot_cumulative_gain(y_val, yhat_knn);\n",
    "\n",
    "# what this chart tell?\n",
    "# if i make the offer to 40% of the ordered list, i will find ~85% of interested people (with 07 neighbors)\n",
    "# this means the KNN model left interested people on the end of the list\n",
    "# more KNN Neighbors = i will find more interested people"
   ]
  },
  {
   "cell_type": "markdown",
   "metadata": {},
   "source": [
    "## 3.2. Linear Regression"
   ]
  },
  {
   "cell_type": "code",
   "execution_count": 15,
   "metadata": {},
   "outputs": [
    {
     "data": {
      "image/png": "[encoded data removed]",
      "text/plain": [
       "<Figure size 432x288 with 1 Axes>"
      ]
     },
     "metadata": {
      "needs_background": "light"
     },
     "output_type": "display_data"
    }
   ],
   "source": [
    "# model definition\n",
    "lr_model = lm.LogisticRegression(random_state = 42)\n",
    "\n",
    "# model training\n",
    "lr_model.fit(x_train, y_train)\n",
    "\n",
    "# model prediction - Generalizing Power\n",
    "yhat_lr = lr_model.predict_proba(x_val)\n",
    "\n",
    "skplt.metrics.plot_cumulative_gain(y_val, yhat_lr);"
   ]
  },
  {
   "cell_type": "code",
   "execution_count": 16,
   "metadata": {},
   "outputs": [],
   "source": [
    "# HOMEWORK: test with random forest and xgboost and compares cumulative gains curves.\n",
    "# you want to find 100% of interested people with least percentage of sample.\n",
    "# Test with PCA Encoding.\n",
    "\n",
    "# HOMEWORK: find a Ranking Metric to summarize Cumulative Gains Curve chart."
   ]
  },
  {
   "cell_type": "markdown",
   "metadata": {},
   "source": [
    "## 3.3. Extra Trees"
   ]
  },
  {
   "cell_type": "code",
   "execution_count": 17,
   "metadata": {},
   "outputs": [],
   "source": [
    "# # model definition\n",
    "# et = en.ExtraTreesClassifier(n_estimators = 1000, n_jobs = -2, random_state = 42)\n",
    "\n",
    "# # model training\n",
    "# et.fit(x_train, y_train)\n",
    "\n",
    "# # model prediction - Generalizing Power\n",
    "# yhat_et = et.predict_proba(x_val)\n",
    "\n",
    "# skplt.metrics.plot_cumulative_gain(y_val, yhat_et);"
   ]
  },
  {
   "cell_type": "markdown",
   "metadata": {},
   "source": [
    "# 4. Model Performance"
   ]
  },
  {
   "cell_type": "code",
   "execution_count": 55,
   "metadata": {},
   "outputs": [
    {
     "name": "stdout",
     "output_type": "stream",
     "text": [
      "Precision at 50 is: 0.2960\n",
      "Recall at 50 is: 0.6190\n"
     ]
    }
   ],
   "source": [
    "# copy data\n",
    "df_perf = x_val.copy()\n",
    "df_perf['response'] = y_val.copy()\n",
    "df_perf.reset_index(inplace = True) # creates a new index because old index was clients ID.\n",
    "df_perf.rename(columns = {'index':'id'}, inplace = True)\n",
    "\n",
    "# propensity score - from KNN Model\n",
    "df_perf['score'] = yhat_knn[:,1].tolist() # get all propensity score values of response = 1 then converts to list\n",
    "\n",
    "k = 50\n",
    "\n",
    "# compute precision at k (Precision Top K)\n",
    "precision = precision_at_k(df_perf, 'response', 'score', k)\n",
    "print('Precision at {} is: {:.4f}'.format(k, precision))\n",
    "\n",
    "# compute recall at k\n",
    "recall = recall_at_k(df_perf, 'response', 'score', k)\n",
    "print('Recall at {} is: {:.4f}'.format(k, recall))  "
   ]
  },
  {
   "cell_type": "markdown",
   "metadata": {},
   "source": [
    "#"
   ]
  }
 ],
 "metadata": {
  "interpreter": {
   "hash": "c91577f87f28a74f53eb86828a7349c9fe5e5528e7d35071f85bba277e374d2b"
  },
  "kernelspec": {
   "display_name": "Python 3.10.0 64-bit ('venv-PA004')",
   "language": "python",
   "name": "python3"
  },
  "language_info": {
   "codemirror_mode": {
    "name": "ipython",
    "version": 3
   },
   "file_extension": ".py",
   "mimetype": "text/x-python",
   "name": "python",
   "nbconvert_exporter": "python",
   "pygments_lexer": "ipython3",
   "version": "3.10.0"
  },
  "orig_nbformat": 4
 },
 "nbformat": 4,
 "nbformat_minor": 2
}
